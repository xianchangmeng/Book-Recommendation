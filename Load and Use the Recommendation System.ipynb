{
 "cells": [
  {
   "cell_type": "markdown",
   "id": "bf003a85",
   "metadata": {},
   "source": [
    "# Load and Use our Book Recommendation System\n",
    "\n",
    "Here we show how to load and use our saved mode."
   ]
  },
  {
   "cell_type": "code",
   "execution_count": 1,
   "id": "af018059",
   "metadata": {},
   "outputs": [
    {
     "name": "stderr",
     "output_type": "stream",
     "text": [
      "Setting default log level to \"WARN\".\n",
      "To adjust logging level use sc.setLogLevel(newLevel). For SparkR, use setLogLevel(newLevel).\n",
      "23/09/06 10:56:08 WARN NativeCodeLoader: Unable to load native-hadoop library for your platform... using builtin-java classes where applicable\n",
      "23/09/06 10:56:09 WARN Utils: Service 'SparkUI' could not bind on port 4040. Attempting port 4041.\n"
     ]
    }
   ],
   "source": [
    "from pyspark.sql import SparkSession\n",
    "from pyspark.ml.recommendation import ALSModel\n",
    "from pyspark.ml.feature import IndexToString\n",
    "import pyspark.sql.functions as F\n",
    "\n",
    "spark = SparkSession.builder.appName('books').getOrCreate()\n"
   ]
  },
  {
   "cell_type": "code",
   "execution_count": 2,
   "id": "34805288",
   "metadata": {},
   "outputs": [],
   "source": [
    "def Book_Recommend(user_set, num_rec):\n",
    "    ### user_set: integer list\n",
    "    ### num_rec: integer, number of recommendations\n",
    "    \n",
    "    \n",
    "    model_loaded = ALSModel.load('book_recommendations')\n",
    "    IndexString_model_loaded = IndexToString.load('index_to_books')\n",
    "    \n",
    "    user_ids = user_set\n",
    "    test_user_df = spark.createDataFrame([(user_id,) for user_id in user_ids], [\"User_ID\"])\n",
    "    loaded_rec = model_loaded.recommendForUserSubset(test_user_df, num_rec)\n",
    "    exploded_loaded_rec = loaded_rec.select('User_ID', F.explode('recommendations').alias(\"exploded_recommendations\"))\n",
    "    loaded_rec_names = IndexString_model_loaded.transform(exploded_loaded_rec.select('User_ID', 'exploded_recommendations.book_index'))\\\n",
    "            .select('User_ID', 'Book_Title')\n",
    "    \n",
    "    # Get the book information\n",
    "    bookpath = 'Books.csv'\n",
    "    book_info = spark.read.csv(bookpath, header=True, inferSchema=True)\n",
    "    \n",
    "    # We modify the column names.\n",
    "    for name in book_info.schema.names:\n",
    "        book_info = book_info.withColumnRenamed(name, name.replace('-', '_'))\n",
    "        \n",
    "    book_info.createOrReplaceTempView('book_info')\n",
    "    loaded_rec_names.createOrReplaceTempView('loaded_rec_names')\n",
    "\n",
    "    query = \" SELECT R.User_ID, B.ISBN, B.Book_Title, B.Book_Author, B.Year_Of_Publication, B.Publisher\\\n",
    "          FROM book_info B\\\n",
    "          INNER JOIN loaded_rec_names R\\\n",
    "          ON R.Book_Title = B.Book_Title\"\n",
    "    book_loaded_info = spark.sql(query)\n",
    "    \n",
    "    return book_loaded_info\n",
    "    \n",
    "    "
   ]
  },
  {
   "cell_type": "code",
   "execution_count": 7,
   "id": "688cd4a4",
   "metadata": {},
   "outputs": [],
   "source": [
    "user_ids = [507, 882]\n",
    "num_rec = 5\n",
    "mybooks = Book_Recommend(user_ids, num_rec)"
   ]
  },
  {
   "cell_type": "code",
   "execution_count": 8,
   "id": "971debc7",
   "metadata": {},
   "outputs": [
    {
     "name": "stdout",
     "output_type": "stream",
     "text": [
      "+-------+----------+--------------------+--------------------+-------------------+--------------------+\n",
      "|User_ID|      ISBN|          Book_Title|         Book_Author|Year_Of_Publication|           Publisher|\n",
      "+-------+----------+--------------------+--------------------+-------------------+--------------------+\n",
      "|    882|0060195460|Keep It Simple, S...|      Judy Sheindlin|               2000|HarperCollins Pub...|\n",
      "|    882|0064472795|Princess in the S...|           Meg Cabot|               2002|        HarperTrophy|\n",
      "|    882|0060294655|Princess in the S...|           Meg Cabot|               2001|       HarperCollins|\n",
      "|    507|0061090565|Under Fire: An Am...|     Oliver L. North|               1992|HarperCollins Pub...|\n",
      "|    507|0971700915|Under Fire: An Am...|     Oliver L. North|               1991|  21st Century Press|\n",
      "|    507|0028621239|The Complete Idio...|          Gail Diven|               1999|         Alpha Books|\n",
      "|    507|0060183349|Under Fire: An Am...|     Oliver L. North|               1991|HarperCollins Pub...|\n",
      "|    507|0060281375|The Complete Chro...|         C. S. Lewis|               1998|HarperCollins Pub...|\n",
      "|    882|0007122039|\"\\Girls' Night Ou...|         Chris Manby|               2001|HarperCollins Pub...|\n",
      "|    507|0060176059|Tales of Burning ...|      Louise Erdrich|               1996|       Harpercollins|\n",
      "|    882|0060160772|Peace, Love and H...|Bernie S., M.D. S...|               1989|       Harpercollins|\n",
      "|    507|0020869207|That Hideous Stre...|          C.S. Lewis|               1965|Scribner Paper Fi...|\n",
      "|    882|0028622480|The First-Book Ma...|       Jason Shinder|               1998|MacMillan Publish...|\n",
      "+-------+----------+--------------------+--------------------+-------------------+--------------------+\n",
      "\n"
     ]
    }
   ],
   "source": [
    "mybooks.show()"
   ]
  },
  {
   "cell_type": "code",
   "execution_count": 9,
   "id": "d717170f",
   "metadata": {},
   "outputs": [],
   "source": [
    "user_ids = [882, 1025, 7286 ]\n",
    "mybooks = Book_Recommend(user_ids, num_rec)"
   ]
  },
  {
   "cell_type": "code",
   "execution_count": 10,
   "id": "1646fc9d",
   "metadata": {},
   "outputs": [
    {
     "name": "stdout",
     "output_type": "stream",
     "text": [
      "+-------+----------+--------------------+--------------------+-------------------+--------------------+\n",
      "|User_ID|      ISBN|          Book_Title|         Book_Author|Year_Of_Publication|           Publisher|\n",
      "+-------+----------+--------------------+--------------------+-------------------+--------------------+\n",
      "|   1025|0060391901|Mastering the Zon...|         Barry Sears|               1996|          ReganBooks|\n",
      "|    882|0060195460|Keep It Simple, S...|      Judy Sheindlin|               2000|HarperCollins Pub...|\n",
      "|    882|0064472795|Princess in the S...|           Meg Cabot|               2002|        HarperTrophy|\n",
      "|    882|0060294655|Princess in the S...|           Meg Cabot|               2001|       HarperCollins|\n",
      "|   7286|0061090565|Under Fire: An Am...|     Oliver L. North|               1992|HarperCollins Pub...|\n",
      "|   7286|0971700915|Under Fire: An Am...|     Oliver L. North|               1991|  21st Century Press|\n",
      "|   7286|0028621239|The Complete Idio...|          Gail Diven|               1999|         Alpha Books|\n",
      "|   1025|000636988X|How Not to Be a P...|        Libby Purves|               1986|HarperCollins Pub...|\n",
      "|   7286|0060183349|Under Fire: An Am...|     Oliver L. North|               1991|HarperCollins Pub...|\n",
      "|   1025|0060007761|The Gulag Archipe...|Aleksandr I. Solz...|               2002|           Perennial|\n",
      "|   1025|0060176784|Saying Grace: A N...|       Beth Gutcheon|               1995|       Harpercollins|\n",
      "|   7286|0060281375|The Complete Chro...|         C. S. Lewis|               1998|HarperCollins Pub...|\n",
      "|    882|0007122039|\"\\Girls' Night Ou...|         Chris Manby|               2001|HarperCollins Pub...|\n",
      "|   7286|0060176059|Tales of Burning ...|      Louise Erdrich|               1996|       Harpercollins|\n",
      "|    882|0060160772|Peace, Love and H...|Bernie S., M.D. S...|               1989|       Harpercollins|\n",
      "|   7286|0020869207|That Hideous Stre...|          C.S. Lewis|               1965|Scribner Paper Fi...|\n",
      "|    882|0028622480|The First-Book Ma...|       Jason Shinder|               1998|MacMillan Publish...|\n",
      "|   1025|0028639960|Ten Minute Guide ...|   William W. Larson|               2000|         Alpha Books|\n",
      "+-------+----------+--------------------+--------------------+-------------------+--------------------+\n",
      "\n"
     ]
    }
   ],
   "source": [
    "mybooks.show()"
   ]
  },
  {
   "cell_type": "code",
   "execution_count": null,
   "id": "dfe12775",
   "metadata": {},
   "outputs": [],
   "source": []
  }
 ],
 "metadata": {
  "kernelspec": {
   "display_name": "Python 3 (ipykernel)",
   "language": "python",
   "name": "python3"
  },
  "language_info": {
   "codemirror_mode": {
    "name": "ipython",
    "version": 3
   },
   "file_extension": ".py",
   "mimetype": "text/x-python",
   "name": "python",
   "nbconvert_exporter": "python",
   "pygments_lexer": "ipython3",
   "version": "3.11.4"
  }
 },
 "nbformat": 4,
 "nbformat_minor": 5
}
