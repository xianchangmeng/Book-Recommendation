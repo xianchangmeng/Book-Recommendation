{
 "cells": [
  {
   "cell_type": "markdown",
   "id": "6b0752ad",
   "metadata": {},
   "source": [
    "# Book Recommendations using PySpark\n",
    "\n",
    "In this notebook, we build a book recommendation system using ALS model in PySpark. We do data cleaning, model training, save and model, then reload the model to give recommendations. \n",
    "\n",
    "\n",
    "## Contents\n",
    "\n",
    "- [ 1 - Create SparkSession and Load Data](#1)\n",
    "- [ 2 - Dataset Preparation](#2)\n",
    "- [ 3 - Training a Recommendation System Using ALS](#3)\n",
    "- [ 4 - Save and Load the Model](#4)"
   ]
  },
  {
   "cell_type": "code",
   "execution_count": 1,
   "id": "27566662",
   "metadata": {},
   "outputs": [],
   "source": [
    "from pyspark.sql import SparkSession\n",
    "from pyspark.sql.functions import count, desc , col, max\n",
    "from pyspark.ml.feature import  StringIndexer, IndexToString\n",
    "from pyspark.ml import Pipeline\n",
    "from pyspark.ml.recommendation import ALS\n",
    "from pyspark.ml.tuning import TrainValidationSplit, ParamGridBuilder\n",
    "import pyspark.sql.functions as F\n",
    "import warnings\n",
    "warnings.filterwarnings('ignore')"
   ]
  },
  {
   "cell_type": "markdown",
   "id": "ae8ac23b",
   "metadata": {},
   "source": [
    "<a name = '1'></a>\n",
    "## 1. Create SparkSession and Load Data"
   ]
  },
  {
   "cell_type": "code",
   "execution_count": 2,
   "id": "2e7f4806",
   "metadata": {},
   "outputs": [
    {
     "name": "stderr",
     "output_type": "stream",
     "text": [
      "Setting default log level to \"WARN\".\n",
      "To adjust logging level use sc.setLogLevel(newLevel). For SparkR, use setLogLevel(newLevel).\n",
      "23/09/06 10:31:48 WARN NativeCodeLoader: Unable to load native-hadoop library for your platform... using builtin-java classes where applicable\n"
     ]
    }
   ],
   "source": [
    "spark = SparkSession.builder.appName('books').getOrCreate()"
   ]
  },
  {
   "cell_type": "code",
   "execution_count": 3,
   "id": "146201ee",
   "metadata": {},
   "outputs": [],
   "source": [
    "bookpath = 'Books.csv'\n",
    "ratepath = 'Ratings.csv'\n",
    "userpath = 'Users.csv'"
   ]
  },
  {
   "cell_type": "markdown",
   "id": "0401fb76",
   "metadata": {},
   "source": [
    "### We create schema for books dataset."
   ]
  },
  {
   "cell_type": "code",
   "execution_count": 4,
   "id": "44f472e7",
   "metadata": {},
   "outputs": [],
   "source": [
    "from pyspark.sql.types import *\n",
    "book_schema = StructType((StructField('ISBN', StringType(), True),\\\n",
    "                          StructField('Book-Title', StringType(), True),\\\n",
    "                          StructField('Book-Author', StringType(), True),\\\n",
    "                          StructField('Year-Of-Publication', StringType(), True),\\\n",
    "                          StructField('Publisher', StringType(), True),\\\n",
    "                          StructField('Image-URL-S', StringType(), True),\\\n",
    "                          StructField('Image-URL-M', StringType(), True),\\\n",
    "                          StructField('Image-URL-L', StringType(), True)))"
   ]
  },
  {
   "cell_type": "code",
   "execution_count": 5,
   "id": "6b34a930",
   "metadata": {},
   "outputs": [],
   "source": [
    "book_df = spark.read.csv(bookpath, header=True, schema=book_schema)"
   ]
  },
  {
   "cell_type": "code",
   "execution_count": 6,
   "id": "3060bd28",
   "metadata": {},
   "outputs": [
    {
     "name": "stdout",
     "output_type": "stream",
     "text": [
      "+----------+--------------------+--------------------+-------------------+--------------------+--------------------+--------------------+--------------------+\n",
      "|      ISBN|          Book-Title|         Book-Author|Year-Of-Publication|           Publisher|         Image-URL-S|         Image-URL-M|         Image-URL-L|\n",
      "+----------+--------------------+--------------------+-------------------+--------------------+--------------------+--------------------+--------------------+\n",
      "|0195153448| Classical Mythology|  Mark P. O. Morford|               2002|Oxford University...|http://images.ama...|http://images.ama...|http://images.ama...|\n",
      "|0002005018|        Clara Callan|Richard Bruce Wright|               2001|HarperFlamingo Ca...|http://images.ama...|http://images.ama...|http://images.ama...|\n",
      "|0060973129|Decision in Normandy|        Carlo D'Este|               1991|     HarperPerennial|http://images.ama...|http://images.ama...|http://images.ama...|\n",
      "|0374157065|Flu: The Story of...|    Gina Bari Kolata|               1999|Farrar Straus Giroux|http://images.ama...|http://images.ama...|http://images.ama...|\n",
      "|0393045218|The Mummies of Ur...|     E. J. W. Barber|               1999|W. W. Norton &amp...|http://images.ama...|http://images.ama...|http://images.ama...|\n",
      "|0399135782|The Kitchen God's...|             Amy Tan|               1991|    Putnam Pub Group|http://images.ama...|http://images.ama...|http://images.ama...|\n",
      "|0425176428|What If?: The Wor...|       Robert Cowley|               2000|Berkley Publishin...|http://images.ama...|http://images.ama...|http://images.ama...|\n",
      "|0671870432|     PLEADING GUILTY|         Scott Turow|               1993|          Audioworks|http://images.ama...|http://images.ama...|http://images.ama...|\n",
      "|0679425608|Under the Black F...|     David Cordingly|               1996|        Random House|http://images.ama...|http://images.ama...|http://images.ama...|\n",
      "|074322678X|Where You'll Find...|         Ann Beattie|               2002|            Scribner|http://images.ama...|http://images.ama...|http://images.ama...|\n",
      "|0771074670|Nights Below Stat...|David Adams Richards|               1988|     Emblem Editions|http://images.ama...|http://images.ama...|http://images.ama...|\n",
      "|080652121X|Hitler's Secret B...|          Adam Lebor|               2000|       Citadel Press|http://images.ama...|http://images.ama...|http://images.ama...|\n",
      "|0887841740|  The Middle Stories|         Sheila Heti|               2004|House of Anansi P...|http://images.ama...|http://images.ama...|http://images.ama...|\n",
      "|1552041778|            Jane Doe|        R. J. Kaiser|               1999|          Mira Books|http://images.ama...|http://images.ama...|http://images.ama...|\n",
      "|1558746218|A Second Chicken ...|       Jack Canfield|               1998|Health Communicat...|http://images.ama...|http://images.ama...|http://images.ama...|\n",
      "|1567407781|The Witchfinder (...|   Loren D. Estleman|               1998|Brilliance Audio ...|http://images.ama...|http://images.ama...|http://images.ama...|\n",
      "|1575663937|More Cunning Than...|  Robert Hendrickson|               1999|Kensington Publis...|http://images.ama...|http://images.ama...|http://images.ama...|\n",
      "|1881320189|Goodbye to the Bu...|        Julia Oliver|               1994|      River City Pub|http://images.ama...|http://images.ama...|http://images.ama...|\n",
      "|0440234743|       The Testament|        John Grisham|               1999|                Dell|http://images.ama...|http://images.ama...|http://images.ama...|\n",
      "|0452264464|Beloved (Plume Co...|       Toni Morrison|               1994|               Plume|http://images.ama...|http://images.ama...|http://images.ama...|\n",
      "+----------+--------------------+--------------------+-------------------+--------------------+--------------------+--------------------+--------------------+\n",
      "only showing top 20 rows\n",
      "\n"
     ]
    }
   ],
   "source": [
    "book_df.show()"
   ]
  },
  {
   "cell_type": "markdown",
   "id": "b27dfc42",
   "metadata": {},
   "source": [
    "### The '-' in column names may cause some problems for later program running, so we change '-' to '_'."
   ]
  },
  {
   "cell_type": "code",
   "execution_count": 7,
   "id": "818c03bf",
   "metadata": {},
   "outputs": [],
   "source": [
    "for name in book_df.schema.names:\n",
    "  book_df = book_df.withColumnRenamed(name, name.replace('-', '_'))"
   ]
  },
  {
   "cell_type": "code",
   "execution_count": 8,
   "id": "5fae7e9a",
   "metadata": {},
   "outputs": [
    {
     "data": {
      "text/plain": [
       "['ISBN',\n",
       " 'Book_Title',\n",
       " 'Book_Author',\n",
       " 'Year_Of_Publication',\n",
       " 'Publisher',\n",
       " 'Image_URL_S',\n",
       " 'Image_URL_M',\n",
       " 'Image_URL_L']"
      ]
     },
     "execution_count": 8,
     "metadata": {},
     "output_type": "execute_result"
    }
   ],
   "source": [
    "book_df.columns"
   ]
  },
  {
   "cell_type": "markdown",
   "id": "78e0b2d9",
   "metadata": {},
   "source": [
    "### Check how many books in this dataset."
   ]
  },
  {
   "cell_type": "code",
   "execution_count": 9,
   "id": "7216fb93",
   "metadata": {},
   "outputs": [
    {
     "data": {
      "text/plain": [
       "271360"
      ]
     },
     "execution_count": 9,
     "metadata": {},
     "output_type": "execute_result"
    }
   ],
   "source": [
    "book_df.count()"
   ]
  },
  {
   "cell_type": "markdown",
   "id": "3fb53443",
   "metadata": {},
   "source": [
    "### Create schema for ratings dataset."
   ]
  },
  {
   "cell_type": "code",
   "execution_count": 10,
   "id": "807dfdc5",
   "metadata": {},
   "outputs": [],
   "source": [
    "rate_schema = StructType((StructField('User-ID', IntegerType(), True),\\\n",
    "                          StructField('ISBN', StringType(), True),\\\n",
    "                          StructField('Book-Rating', IntegerType(), True)))"
   ]
  },
  {
   "cell_type": "code",
   "execution_count": 11,
   "id": "e8072153",
   "metadata": {},
   "outputs": [],
   "source": [
    "rate_df = spark.read.csv(ratepath, header=True, schema=rate_schema)"
   ]
  },
  {
   "cell_type": "code",
   "execution_count": 12,
   "id": "09233dcb",
   "metadata": {},
   "outputs": [],
   "source": [
    "for name in rate_df.schema.names:\n",
    "  rate_df = rate_df.withColumnRenamed(name, name.replace('-', '_'))"
   ]
  },
  {
   "cell_type": "code",
   "execution_count": 13,
   "id": "4fba37ee",
   "metadata": {},
   "outputs": [
    {
     "data": {
      "text/plain": [
       "1149780"
      ]
     },
     "execution_count": 13,
     "metadata": {},
     "output_type": "execute_result"
    }
   ],
   "source": [
    "rate_df.count()"
   ]
  },
  {
   "cell_type": "code",
   "execution_count": 14,
   "id": "3c415f45",
   "metadata": {},
   "outputs": [
    {
     "name": "stdout",
     "output_type": "stream",
     "text": [
      "+-------+----------+-----------+\n",
      "|User_ID|      ISBN|Book_Rating|\n",
      "+-------+----------+-----------+\n",
      "| 276725|034545104X|          0|\n",
      "| 276726|0155061224|          5|\n",
      "| 276727|0446520802|          0|\n",
      "| 276729|052165615X|          3|\n",
      "| 276729|0521795028|          6|\n",
      "| 276733|2080674722|          0|\n",
      "| 276736|3257224281|          8|\n",
      "| 276737|0600570967|          6|\n",
      "| 276744|038550120X|          7|\n",
      "| 276745| 342310538|         10|\n",
      "| 276746|0425115801|          0|\n",
      "| 276746|0449006522|          0|\n",
      "| 276746|0553561618|          0|\n",
      "| 276746|055356451X|          0|\n",
      "| 276746|0786013990|          0|\n",
      "| 276746|0786014512|          0|\n",
      "| 276747|0060517794|          9|\n",
      "| 276747|0451192001|          0|\n",
      "| 276747|0609801279|          0|\n",
      "| 276747|0671537458|          9|\n",
      "+-------+----------+-----------+\n",
      "only showing top 20 rows\n",
      "\n"
     ]
    }
   ],
   "source": [
    "rate_df.show()"
   ]
  },
  {
   "cell_type": "markdown",
   "id": "a9d2b899",
   "metadata": {},
   "source": [
    "### Create schema for users dataset."
   ]
  },
  {
   "cell_type": "code",
   "execution_count": 15,
   "id": "d7c6bf54",
   "metadata": {},
   "outputs": [],
   "source": [
    "user_schema = StructType((StructField('User-ID', IntegerType(), True),\\\n",
    "                          StructField('Location', StringType(), True),\\\n",
    "                          StructField('Age', StringType(), True)))"
   ]
  },
  {
   "cell_type": "code",
   "execution_count": 16,
   "id": "5f990917",
   "metadata": {},
   "outputs": [],
   "source": [
    "user_df = spark.read.csv(userpath, header=True, schema=user_schema)"
   ]
  },
  {
   "cell_type": "code",
   "execution_count": 17,
   "id": "09443109",
   "metadata": {},
   "outputs": [],
   "source": [
    "for name in user_df.schema.names:\n",
    "  user_df = user_df.withColumnRenamed(name, name.replace('-', '_'))"
   ]
  },
  {
   "cell_type": "code",
   "execution_count": 18,
   "id": "bf89113d",
   "metadata": {},
   "outputs": [
    {
     "data": {
      "text/plain": [
       "278859"
      ]
     },
     "execution_count": 18,
     "metadata": {},
     "output_type": "execute_result"
    }
   ],
   "source": [
    "user_df.count()"
   ]
  },
  {
   "cell_type": "code",
   "execution_count": 19,
   "id": "fcee90e4",
   "metadata": {},
   "outputs": [
    {
     "name": "stdout",
     "output_type": "stream",
     "text": [
      "+-------+--------------------+----+\n",
      "|User_ID|            Location| Age|\n",
      "+-------+--------------------+----+\n",
      "|      1|  nyc, new york, usa|null|\n",
      "|      2|stockton, califor...|18.0|\n",
      "|      3|moscow, yukon ter...|null|\n",
      "|      4|porto, v.n.gaia, ...|17.0|\n",
      "|      5|farnborough, hant...|null|\n",
      "|      6|santa monica, cal...|61.0|\n",
      "|      7| washington, dc, usa|null|\n",
      "|      8|timmins, ontario,...|null|\n",
      "|      9|germantown, tenne...|null|\n",
      "|     10|albacete, wiscons...|26.0|\n",
      "|     11|melbourne, victor...|14.0|\n",
      "|     12|fort bragg, calif...|null|\n",
      "|     13|barcelona, barcel...|26.0|\n",
      "|     14|mediapolis, iowa,...|null|\n",
      "|     15|calgary, alberta,...|null|\n",
      "|     16|albuquerque, new ...|null|\n",
      "|     17|chesapeake, virgi...|null|\n",
      "|     18|rio de janeiro, r...|25.0|\n",
      "|     19|           weston, ,|14.0|\n",
      "|     20|langhorne, pennsy...|19.0|\n",
      "+-------+--------------------+----+\n",
      "only showing top 20 rows\n",
      "\n"
     ]
    }
   ],
   "source": [
    "user_df.show()"
   ]
  },
  {
   "cell_type": "markdown",
   "id": "2350f3cd",
   "metadata": {},
   "source": [
    "<a name='2'></a>\n",
    "## 2. Dataset Preparation\n",
    "\n",
    "### First, we use SQL commands to join the data we need from these datasets."
   ]
  },
  {
   "cell_type": "code",
   "execution_count": 20,
   "id": "bd3a6def",
   "metadata": {},
   "outputs": [],
   "source": [
    "book_df.createOrReplaceTempView('book_df')\n",
    "rate_df.createOrReplaceTempView('rate_df')\n",
    "user_df.createOrReplaceTempView('user_df')"
   ]
  },
  {
   "cell_type": "code",
   "execution_count": 21,
   "id": "d1f81eb0",
   "metadata": {},
   "outputs": [],
   "source": [
    "query = \"SELECT R.User_ID, B.Book_Title, R.Book_Rating\\\n",
    "         FROM rate_df R\\\n",
    "         INNER JOIN book_df B\\\n",
    "         ON R.ISBN = B.ISBN\"\n",
    "data = spark.sql(query)"
   ]
  },
  {
   "cell_type": "markdown",
   "id": "561159ef",
   "metadata": {},
   "source": [
    "### For convenience of the exhibition in our notebook, we use part of the dataset."
   ]
  },
  {
   "cell_type": "code",
   "execution_count": 22,
   "id": "4cc9f900",
   "metadata": {},
   "outputs": [],
   "source": [
    "data = data.limit(2000)"
   ]
  },
  {
   "cell_type": "code",
   "execution_count": 23,
   "id": "1351b8dd",
   "metadata": {},
   "outputs": [
    {
     "name": "stderr",
     "output_type": "stream",
     "text": [
      "\r",
      "[Stage 12:===>              (1 + 5) / 6][Stage 13:======>          (4 + 5) / 10]\r",
      "\r",
      "[Stage 12:================================================>         (5 + 1) / 6]\r"
     ]
    },
    {
     "name": "stdout",
     "output_type": "stream",
     "text": [
      "+-------+--------------------+-----------+\n",
      "|User_ID|          Book_Title|Book_Rating|\n",
      "+-------+--------------------+-----------+\n",
      "|  23902|    The Fighting Man|          9|\n",
      "|  23902|Nothing Can Be Be...|          0|\n",
      "|  16319|       Which Colour?|          0|\n",
      "|  26583|Huck Scarry's Ste...|          0|\n",
      "| 156534|  The Big Honey Hunt|          0|\n",
      "| 176062|ARE YOU MY MOTHER...|          0|\n",
      "| 114216|                Bess|          0|\n",
      "|  11676| THE COAL HOUSE T/PB|          0|\n",
      "| 131402| THE COAL HOUSE T/PB|          0|\n",
      "| 145927| THE COAL HOUSE T/PB|          0|\n",
      "|  11676|Glue (First Facts...|          0|\n",
      "| 181659|Glue (First Facts...|         10|\n",
      "| 206979|Glue (First Facts...|          0|\n",
      "|  11676|Count Duckula: Va...|          6|\n",
      "| 110029|Count Duckula: Va...|          0|\n",
      "| 206979|Count Duckula: Va...|          0|\n",
      "| 201526|PADDINGTON GOES T...|          0|\n",
      "|  93366|Frederick Street:...|          8|\n",
      "|  26583|           Vancouver|          8|\n",
      "| 101731|           Vancouver|          8|\n",
      "+-------+--------------------+-----------+\n",
      "only showing top 20 rows\n",
      "\n"
     ]
    },
    {
     "name": "stderr",
     "output_type": "stream",
     "text": [
      "\r",
      "                                                                                \r"
     ]
    }
   ],
   "source": [
    "data.show()"
   ]
  },
  {
   "cell_type": "markdown",
   "id": "6fc084f6",
   "metadata": {},
   "source": [
    "### For the training of our model, we transform book titles to integer index."
   ]
  },
  {
   "cell_type": "code",
   "execution_count": 24,
   "id": "88e27b7c",
   "metadata": {},
   "outputs": [
    {
     "name": "stderr",
     "output_type": "stream",
     "text": [
      "                                                                                \r"
     ]
    },
    {
     "name": "stdout",
     "output_type": "stream",
     "text": [
      "+-------+--------------------+-----------+----------+\n",
      "|User_ID|          Book_Title|Book_Rating|book_index|\n",
      "+-------+--------------------+-----------+----------+\n",
      "|  23902|    The Fighting Man|          9|     480.0|\n",
      "|  23902|Nothing Can Be Be...|          0|     391.0|\n",
      "|  16319|       Which Colour?|          0|     545.0|\n",
      "|  26583|Huck Scarry's Ste...|          0|     344.0|\n",
      "| 156534|  The Big Honey Hunt|          0|     455.0|\n",
      "| 176062|ARE YOU MY MOTHER...|          0|     238.0|\n",
      "| 114216|                Bess|          0|     258.0|\n",
      "|  11676| THE COAL HOUSE T/PB|          0|     121.0|\n",
      "| 131402| THE COAL HOUSE T/PB|          0|     121.0|\n",
      "| 145927| THE COAL HOUSE T/PB|          0|     121.0|\n",
      "|  11676|Glue (First Facts...|          0|     106.0|\n",
      "| 181659|Glue (First Facts...|         10|     106.0|\n",
      "| 206979|Glue (First Facts...|          0|     106.0|\n",
      "|  11676|Count Duckula: Va...|          6|     102.0|\n",
      "| 110029|Count Duckula: Va...|          0|     102.0|\n",
      "| 206979|Count Duckula: Va...|          0|     102.0|\n",
      "| 201526|PADDINGTON GOES T...|          0|     402.0|\n",
      "|  93366|Frederick Street:...|          8|     319.0|\n",
      "|  26583|           Vancouver|          8|     221.0|\n",
      "| 101731|           Vancouver|          8|     221.0|\n",
      "+-------+--------------------+-----------+----------+\n",
      "only showing top 20 rows\n",
      "\n"
     ]
    }
   ],
   "source": [
    "book_indexer = StringIndexer(inputCol='Book_Title', outputCol='book_index')\n",
    "book_indexer_model = book_indexer.fit(data)\n",
    "\n",
    "idx_to_book = IndexToString(inputCol='book_index',outputCol='Book_Title').setLabels(book_indexer_model.labels)\n",
    "\n",
    "\n",
    "data = book_indexer_model.transform(data)\n",
    "data.show()"
   ]
  },
  {
   "cell_type": "markdown",
   "id": "6c11375a",
   "metadata": {},
   "source": [
    "<a name='3'></a>\n",
    "## 3. Train a recommendation system using ALS\n",
    "\n",
    "### We split the data into train and test sets."
   ]
  },
  {
   "cell_type": "code",
   "execution_count": 25,
   "id": "5e2a4744",
   "metadata": {},
   "outputs": [],
   "source": [
    "(train, test) = data.randomSplit([0.8, 0.2])"
   ]
  },
  {
   "cell_type": "code",
   "execution_count": 26,
   "id": "48142b0b",
   "metadata": {},
   "outputs": [
    {
     "name": "stderr",
     "output_type": "stream",
     "text": [
      "23/09/06 10:31:57 WARN InstanceBuilder: Failed to load implementation from:dev.ludovic.netlib.blas.JNIBLAS\n",
      "23/09/06 10:31:57 WARN InstanceBuilder: Failed to load implementation from:dev.ludovic.netlib.blas.VectorBLAS\n",
      "23/09/06 10:31:57 WARN InstanceBuilder: Failed to load implementation from:dev.ludovic.netlib.lapack.JNILAPACK\n"
     ]
    }
   ],
   "source": [
    "user = 'User_ID'\n",
    "book = 'book_index'\n",
    "rate = 'Book_Rating'\n",
    "\n",
    "als = ALS(maxIter=5, regParam=0.01, userCol=user, itemCol=book, ratingCol=rate)\n",
    "model = als.fit(train)\n",
    "\n",
    "pred = model.transform(test)"
   ]
  },
  {
   "cell_type": "code",
   "execution_count": 27,
   "id": "4075a6b5",
   "metadata": {},
   "outputs": [
    {
     "name": "stderr",
     "output_type": "stream",
     "text": [
      "\r",
      "[Stage 94:=>  (2 + 4) / 6][Stage 112:=>(7 + 3) / 10][Stage 113:> (0 + 3) / 10]\r"
     ]
    },
    {
     "name": "stdout",
     "output_type": "stream",
     "text": [
      "+-------+--------------------+-----------+----------+----------+\n",
      "|User_ID|          Book_Title|Book_Rating|book_index|prediction|\n",
      "+-------+--------------------+-----------+----------+----------+\n",
      "|    387|        Rosie'S Walk|          0|      69.0|       NaN|\n",
      "|   1674|Always Coming Hom...|          0|      96.0|       0.0|\n",
      "|   2790|For Whome the Bel...|          6|      15.0|       NaN|\n",
      "|   3363|Once upon a More ...|          0|       2.0|       0.0|\n",
      "|   4157|Stupid White Men ...|          8|       1.0|       NaN|\n",
      "|   5543|Mutant Message Do...|          0|      10.0|       NaN|\n",
      "|   5694|     CADDIE WOODLAWN|          0|       9.0|       NaN|\n",
      "|   5903|Princess in the S...|          0|      35.0|       0.0|\n",
      "|   7962|The Sweet Hereaft...|          0|      52.0|       NaN|\n",
      "|  10447|The Blue Jay's Da...|          0|     122.0|       NaN|\n",
      "|  11676|Engaged to Die : ...|          8|      29.0| 7.0049353|\n",
      "|  11676|    Guilty Creatures|          2|      19.0|-2.1854591|\n",
      "|  11676|            Home Run|          6|      64.0|-2.9600978|\n",
      "|  11676|  Rogue Lion Safaris|         10|     192.0|       0.0|\n",
      "|  11676|To Cut a Long Sto...|          0|      27.0| -1.888756|\n",
      "|  11676|   street bible, the|          9|     132.0| 1.4366626|\n",
      "|  13552|   The Boy Next Door|          7|       0.0|       0.0|\n",
      "|  14212|Wicked : The Life...|          9|       6.0|       NaN|\n",
      "|  15408|Ether Day: The St...|          0|     307.0|       NaN|\n",
      "|  15408|HOW TO IMPROVE YO...|          0|     336.0|       NaN|\n",
      "+-------+--------------------+-----------+----------+----------+\n",
      "only showing top 20 rows\n",
      "\n"
     ]
    },
    {
     "name": "stderr",
     "output_type": "stream",
     "text": [
      "\r",
      "[Stage 116:>                                                      (0 + 10) / 10]\r",
      "\r",
      "                                                                                \r"
     ]
    }
   ],
   "source": [
    "pred.show()"
   ]
  },
  {
   "cell_type": "code",
   "execution_count": 28,
   "id": "d99264e5",
   "metadata": {},
   "outputs": [],
   "source": [
    "recs = model.recommendForAllUsers(10)"
   ]
  },
  {
   "cell_type": "code",
   "execution_count": 29,
   "id": "b10d593a",
   "metadata": {},
   "outputs": [
    {
     "name": "stderr",
     "output_type": "stream",
     "text": [
      "[Stage 157:==================================>                  (65 + 10) / 100]\r"
     ]
    },
    {
     "name": "stdout",
     "output_type": "stream",
     "text": [
      "+-------+--------------------+\n",
      "|User_ID|     recommendations|\n",
      "+-------+--------------------+\n",
      "|    507|[{108, 0.0}, {107...|\n",
      "|    882|[{35, 13.790217},...|\n",
      "|   1025|[{79, 8.999305}, ...|\n",
      "|   1435|[{108, 0.0}, {107...|\n",
      "|   1485|[{108, 0.0}, {107...|\n",
      "|   1903|[{108, 0.0}, {107...|\n",
      "|   2891|[{108, 0.0}, {107...|\n",
      "|   3814|[{6, 4.999617}, {...|\n",
      "|   5048|[{30, 24.077822},...|\n",
      "|   5499|[{44, 6.9994783},...|\n",
      "|   5770|[{39, 7.9323525},...|\n",
      "|   5971|[{544, 7.998626},...|\n",
      "|   6543|[{56, 10.658414},...|\n",
      "|   7158|[{108, 0.0}, {107...|\n",
      "|   7178|[{108, 0.0}, {107...|\n",
      "|   7286|[{108, 0.0}, {107...|\n",
      "|   7346|[{51, 14.351246},...|\n",
      "|   7925|[{108, 0.0}, {107...|\n",
      "|   8067|[{128, 20.385635}...|\n",
      "|   8681|[{108, 0.0}, {107...|\n",
      "+-------+--------------------+\n",
      "only showing top 20 rows\n",
      "\n"
     ]
    },
    {
     "name": "stderr",
     "output_type": "stream",
     "text": [
      "\r",
      "[Stage 157:==============================================>      (88 + 10) / 100]\r",
      "\r",
      "                                                                                \r"
     ]
    }
   ],
   "source": [
    "recs.show()"
   ]
  },
  {
   "cell_type": "markdown",
   "id": "6177778f",
   "metadata": {},
   "source": [
    "### We give recommendations for some users."
   ]
  },
  {
   "cell_type": "code",
   "execution_count": 30,
   "id": "bfcefb3d",
   "metadata": {},
   "outputs": [],
   "source": [
    "user_ids = [507, 882]\n",
    "test_user_df = spark.createDataFrame(user_ids, IntegerType()).toDF('User_ID')"
   ]
  },
  {
   "cell_type": "code",
   "execution_count": 31,
   "id": "c7438106",
   "metadata": {},
   "outputs": [],
   "source": [
    "test_user_rec = model.recommendForUserSubset(test_user_df, 10)  # Get the top 10 recommendations"
   ]
  },
  {
   "cell_type": "code",
   "execution_count": 32,
   "id": "3426b0ec",
   "metadata": {},
   "outputs": [
    {
     "name": "stdout",
     "output_type": "stream",
     "text": [
      "+-------+--------------------+\n",
      "|User_ID|     recommendations|\n",
      "+-------+--------------------+\n",
      "|    882|[{35, 13.790217},...|\n",
      "|    507|[{108, 0.0}, {107...|\n",
      "+-------+--------------------+\n",
      "\n"
     ]
    }
   ],
   "source": [
    "test_user_rec.show()"
   ]
  },
  {
   "cell_type": "markdown",
   "id": "dc407462",
   "metadata": {},
   "source": [
    "### Next we need to transform the book-index to book titles. "
   ]
  },
  {
   "cell_type": "code",
   "execution_count": 33,
   "id": "dd57cf34",
   "metadata": {},
   "outputs": [],
   "source": [
    "exploded_user_rec = test_user_rec.select('User_ID', F.explode('recommendations').alias(\"exploded_recommendations\"))"
   ]
  },
  {
   "cell_type": "code",
   "execution_count": 34,
   "id": "e184f32d",
   "metadata": {},
   "outputs": [
    {
     "name": "stdout",
     "output_type": "stream",
     "text": [
      "+-------+------------------------+\n",
      "|User_ID|exploded_recommendations|\n",
      "+-------+------------------------+\n",
      "|    882|         {35, 13.790217}|\n",
      "|    882|         {40, 13.247996}|\n",
      "|    882|         {22, 12.294685}|\n",
      "|    882|        {205, 10.917315}|\n",
      "|    882|         {24, 10.766273}|\n",
      "|    882|           {9, 9.995795}|\n",
      "|    882|          {53, 8.617926}|\n",
      "|    882|         {353, 8.194262}|\n",
      "|    882|          {84, 8.107805}|\n",
      "|    882|        {480, 7.9890504}|\n",
      "|    507|              {108, 0.0}|\n",
      "|    507|              {107, 0.0}|\n",
      "|    507|              {106, 0.0}|\n",
      "|    507|              {101, 0.0}|\n",
      "|    507|              {100, 0.0}|\n",
      "|    507|               {99, 0.0}|\n",
      "|    507|               {98, 0.0}|\n",
      "|    507|               {97, 0.0}|\n",
      "|    507|               {96, 0.0}|\n",
      "|    507|               {95, 0.0}|\n",
      "+-------+------------------------+\n",
      "\n"
     ]
    },
    {
     "name": "stderr",
     "output_type": "stream",
     "text": [
      "23/09/06 10:32:01 WARN GarbageCollectionMetrics: To enable non-built-in garbage collector(s) List(G1 Concurrent GC), users should configure it(them) to spark.eventLog.gcMetrics.youngGenerationGarbageCollectors or spark.eventLog.gcMetrics.oldGenerationGarbageCollectors\n"
     ]
    }
   ],
   "source": [
    "exploded_user_rec.show()"
   ]
  },
  {
   "cell_type": "markdown",
   "id": "d8ede4e4",
   "metadata": {},
   "source": [
    "### Here we use indexToString."
   ]
  },
  {
   "cell_type": "code",
   "execution_count": 35,
   "id": "0182fd72",
   "metadata": {},
   "outputs": [],
   "source": [
    "rec_names = idx_to_book.transform(exploded_user_rec.select('User_ID', 'exploded_recommendations.book_index'))\\\n",
    "           .select('User_ID', 'Book_Title')"
   ]
  },
  {
   "cell_type": "code",
   "execution_count": 36,
   "id": "e6934ac8",
   "metadata": {},
   "outputs": [
    {
     "name": "stdout",
     "output_type": "stream",
     "text": [
      "+-------+--------------------+\n",
      "|User_ID|          Book_Title|\n",
      "+-------+--------------------+\n",
      "|    882|Princess in the S...|\n",
      "|    882|Peace, Love and H...|\n",
      "|    882|Keep It Simple, S...|\n",
      "|    882|The First-Book Ma...|\n",
      "|    882|\"\\Girls' Night Ou...|\n",
      "|    882|     CADDIE WOODLAWN|\n",
      "|    882|A Suitable Boy: A...|\n",
      "|    882|Innocent ErÃ©ndir...|\n",
      "|    882|Saying Grace: A N...|\n",
      "|    882|    The Fighting Man|\n",
      "|    507|      HOUSE OF MIRTH|\n",
      "|    507|Going Postal : A ...|\n",
      "|    507|Glue (First Facts...|\n",
      "|    507|Cathedral, Forge,...|\n",
      "|    507|Carbohydrate-Addi...|\n",
      "|    507|            CHILDREN|\n",
      "|    507|Bouncing Back: I'...|\n",
      "|    507|               Billy|\n",
      "|    507|Always Coming Hom...|\n",
      "|    507|Airborne: A Senti...|\n",
      "+-------+--------------------+\n",
      "\n"
     ]
    }
   ],
   "source": [
    "rec_names.show()"
   ]
  },
  {
   "cell_type": "markdown",
   "id": "b721986f",
   "metadata": {},
   "source": [
    "### Finally we retrieve all the information of the recommended books."
   ]
  },
  {
   "cell_type": "code",
   "execution_count": 37,
   "id": "688f5bf8",
   "metadata": {},
   "outputs": [],
   "source": [
    "rec_names.createOrReplaceTempView('rec_names')\n",
    "\n",
    "query = \" SELECT R.User_ID, B.ISBN, B.Book_Title, B.Book_Author, B.Year_Of_Publication, B.Publisher\\\n",
    "          FROM book_df B\\\n",
    "          INNER JOIN rec_names R\\\n",
    "          ON R.Book_Title = B.Book_Title\"\n",
    "book_rec_info = spark.sql(query)"
   ]
  },
  {
   "cell_type": "code",
   "execution_count": 38,
   "id": "dfb7973f",
   "metadata": {},
   "outputs": [
    {
     "name": "stdout",
     "output_type": "stream",
     "text": [
      "+-------+----------+--------------------+--------------------+-------------------+--------------------+\n",
      "|User_ID|      ISBN|          Book_Title|         Book_Author|Year_Of_Publication|           Publisher|\n",
      "+-------+----------+--------------------+--------------------+-------------------+--------------------+\n",
      "|    882|0060195460|Keep It Simple, S...|      Judy Sheindlin|               2000|HarperCollins Pub...|\n",
      "|    882|0064472795|Princess in the S...|           Meg Cabot|               2002|        HarperTrophy|\n",
      "|    882|0060294655|Princess in the S...|           Meg Cabot|               2001|       HarperCollins|\n",
      "|    507|006015456X|Always Coming Hom...|   Ursula K. Le Guin|               1985|         Harperaudio|\n",
      "|    507|0007110928|               Billy|   Pamela Stephenson|               2002|HarperCollins Ent...|\n",
      "|    507|0399135847|               Billy|    Whitley Strieber|               1990|    Putnam Pub Group|\n",
      "|    507|0425129551|               Billy|    Whitley Strieber|               1991|Berkley Publishin...|\n",
      "|    507|068480123X|      HOUSE OF MIRTH|       Edith Wharton|               1995|            Scribner|\n",
      "|    882|0020418809|     CADDIE WOODLAWN|   Carol Ryrie Brink|               1970|         Simon Pulse|\n",
      "|    507|0060178213|Bouncing Back: I'...|         Joan Rivers|               1997|       Harpercollins|\n",
      "|    507|1585673080|               Billy|   Pamela Stephenson|               2002|      Overlook Press|\n",
      "|    882|0001047213|    The Fighting Man|      Gerald Seymour|               1993|HarperCollins Pub...|\n",
      "|    882|0060176784|Saying Grace: A N...|       Beth Gutcheon|               1995|       Harpercollins|\n",
      "|    507|0060537310|               Billy|   Pamela Stephenson|               2003|  Perennial Currents|\n",
      "|    507|0140179089|               Billy|       Albert French|               1995|       Penguin Books|\n",
      "|    882|0007122039|\"\\Girls' Night Ou...|         Chris Manby|               2001|HarperCollins Pub...|\n",
      "|    507|0020554303|      HOUSE OF MIRTH|       Edith Wharton|               1987|Scribner Paper Fi...|\n",
      "|    507|0020973403|Airborne: A Senti...|   William F Buckley|                  0|Simon Schuster Trade|\n",
      "|    507|0060165901|Cathedral, Forge,...|        Frances Gies|               1994|       Harpercollins|\n",
      "|    882|0060160772|Peace, Love and H...|Bernie S., M.D. S...|               1989|       Harpercollins|\n",
      "+-------+----------+--------------------+--------------------+-------------------+--------------------+\n",
      "only showing top 20 rows\n",
      "\n"
     ]
    }
   ],
   "source": [
    "book_rec_info.show()"
   ]
  },
  {
   "cell_type": "markdown",
   "id": "a1b029ea",
   "metadata": {},
   "source": [
    "<a name='4'></a>\n",
    "## 4. Save and Load the Model"
   ]
  },
  {
   "cell_type": "markdown",
   "id": "6f7cccf6",
   "metadata": {},
   "source": [
    "### Save the als model. "
   ]
  },
  {
   "cell_type": "code",
   "execution_count": 39,
   "id": "f9decca4",
   "metadata": {},
   "outputs": [
    {
     "name": "stderr",
     "output_type": "stream",
     "text": [
      "23/09/06 10:32:03 WARN MemoryManager: Total allocation exceeds 95.00% (1,020,054,720 bytes) of heap memory\n",
      "Scaling row group sizes to 95.00% for 8 writers\n",
      "23/09/06 10:32:03 WARN MemoryManager: Total allocation exceeds 95.00% (1,020,054,720 bytes) of heap memory\n",
      "Scaling row group sizes to 84.44% for 9 writers\n",
      "23/09/06 10:32:03 WARN MemoryManager: Total allocation exceeds 95.00% (1,020,054,720 bytes) of heap memory\n",
      "Scaling row group sizes to 76.00% for 10 writers\n",
      "23/09/06 10:32:03 WARN MemoryManager: Total allocation exceeds 95.00% (1,020,054,720 bytes) of heap memory\n",
      "Scaling row group sizes to 84.44% for 9 writers\n",
      "23/09/06 10:32:03 WARN MemoryManager: Total allocation exceeds 95.00% (1,020,054,720 bytes) of heap memory\n",
      "Scaling row group sizes to 95.00% for 8 writers\n"
     ]
    }
   ],
   "source": [
    "model.write().overwrite().save('book_recommendations')"
   ]
  },
  {
   "cell_type": "markdown",
   "id": "2236af8a",
   "metadata": {},
   "source": [
    "### Save the Index to String Information."
   ]
  },
  {
   "cell_type": "code",
   "execution_count": 40,
   "id": "d0821592",
   "metadata": {},
   "outputs": [],
   "source": [
    "idx_to_book.write().overwrite().save(\"index_to_books\")"
   ]
  },
  {
   "cell_type": "markdown",
   "id": "02e52197",
   "metadata": {},
   "source": [
    "### We load the models and make recommendations."
   ]
  },
  {
   "cell_type": "code",
   "execution_count": 41,
   "id": "515f5962",
   "metadata": {},
   "outputs": [],
   "source": [
    "from pyspark.sql import SparkSession\n",
    "from pyspark.ml.recommendation import ALSModel\n",
    "from pyspark.ml.feature import IndexToString\n",
    "import pyspark.sql.functions as F\n",
    "\n",
    "spark = SparkSession.builder.appName('books').getOrCreate()\n",
    "\n",
    "model_loaded = ALSModel.load('book_recommendations')\n",
    "IndexString_model_loaded = IndexToString.load('index_to_books')"
   ]
  },
  {
   "cell_type": "code",
   "execution_count": 42,
   "id": "70c14ece",
   "metadata": {},
   "outputs": [],
   "source": [
    "user_ids = [507, 882]\n",
    "test_user_df = spark.createDataFrame([(user_id,) for user_id in user_ids], [\"User_ID\"])"
   ]
  },
  {
   "cell_type": "code",
   "execution_count": 43,
   "id": "d41a0936",
   "metadata": {},
   "outputs": [],
   "source": [
    "loaded_rec = model_loaded.recommendForUserSubset(test_user_df, 10)"
   ]
  },
  {
   "cell_type": "code",
   "execution_count": 44,
   "id": "1a096bbf",
   "metadata": {},
   "outputs": [],
   "source": [
    "exploded_loaded_rec = loaded_rec.select('User_ID', F.explode('recommendations').alias(\"exploded_recommendations\"))"
   ]
  },
  {
   "cell_type": "code",
   "execution_count": 45,
   "id": "0cf69098",
   "metadata": {},
   "outputs": [],
   "source": [
    "loaded_rec_names = IndexString_model_loaded.transform(exploded_loaded_rec.select('User_ID', 'exploded_recommendations.book_index'))\\\n",
    "            .select('User_ID', 'Book_Title')"
   ]
  },
  {
   "cell_type": "code",
   "execution_count": 46,
   "id": "fb8cb3f6",
   "metadata": {},
   "outputs": [
    {
     "name": "stdout",
     "output_type": "stream",
     "text": [
      "+-------+--------------------+\n",
      "|User_ID|          Book_Title|\n",
      "+-------+--------------------+\n",
      "|    882|Princess in the S...|\n",
      "|    882|Peace, Love and H...|\n",
      "|    882|Keep It Simple, S...|\n",
      "|    882|The First-Book Ma...|\n",
      "|    882|\"\\Girls' Night Ou...|\n",
      "|    882|     CADDIE WOODLAWN|\n",
      "|    882|A Suitable Boy: A...|\n",
      "|    882|Innocent ErÃ©ndir...|\n",
      "|    882|Saying Grace: A N...|\n",
      "|    882|    The Fighting Man|\n",
      "|    507|      HOUSE OF MIRTH|\n",
      "|    507|Going Postal : A ...|\n",
      "|    507|Glue (First Facts...|\n",
      "|    507|Cathedral, Forge,...|\n",
      "|    507|Carbohydrate-Addi...|\n",
      "|    507|            CHILDREN|\n",
      "|    507|Bouncing Back: I'...|\n",
      "|    507|               Billy|\n",
      "|    507|Always Coming Hom...|\n",
      "|    507|Airborne: A Senti...|\n",
      "+-------+--------------------+\n",
      "\n"
     ]
    }
   ],
   "source": [
    "loaded_rec_names.show()"
   ]
  },
  {
   "cell_type": "markdown",
   "id": "7d42f360",
   "metadata": {},
   "source": [
    "### Now we get the complete information of the recommended books\n",
    "\n",
    "First we load the book information."
   ]
  },
  {
   "cell_type": "code",
   "execution_count": 47,
   "id": "1aeef696",
   "metadata": {},
   "outputs": [],
   "source": [
    "bookpath = 'Books.csv'\n",
    "book_info = spark.read.csv(bookpath, header=True, inferSchema=True)"
   ]
  },
  {
   "cell_type": "code",
   "execution_count": 48,
   "id": "d0dda3c2",
   "metadata": {},
   "outputs": [
    {
     "name": "stdout",
     "output_type": "stream",
     "text": [
      "+----------+--------------------+--------------------+-------------------+--------------------+--------------------+--------------------+--------------------+\n",
      "|      ISBN|          Book-Title|         Book-Author|Year-Of-Publication|           Publisher|         Image-URL-S|         Image-URL-M|         Image-URL-L|\n",
      "+----------+--------------------+--------------------+-------------------+--------------------+--------------------+--------------------+--------------------+\n",
      "|0195153448| Classical Mythology|  Mark P. O. Morford|               2002|Oxford University...|http://images.ama...|http://images.ama...|http://images.ama...|\n",
      "|0002005018|        Clara Callan|Richard Bruce Wright|               2001|HarperFlamingo Ca...|http://images.ama...|http://images.ama...|http://images.ama...|\n",
      "|0060973129|Decision in Normandy|        Carlo D'Este|               1991|     HarperPerennial|http://images.ama...|http://images.ama...|http://images.ama...|\n",
      "|0374157065|Flu: The Story of...|    Gina Bari Kolata|               1999|Farrar Straus Giroux|http://images.ama...|http://images.ama...|http://images.ama...|\n",
      "|0393045218|The Mummies of Ur...|     E. J. W. Barber|               1999|W. W. Norton &amp...|http://images.ama...|http://images.ama...|http://images.ama...|\n",
      "|0399135782|The Kitchen God's...|             Amy Tan|               1991|    Putnam Pub Group|http://images.ama...|http://images.ama...|http://images.ama...|\n",
      "|0425176428|What If?: The Wor...|       Robert Cowley|               2000|Berkley Publishin...|http://images.ama...|http://images.ama...|http://images.ama...|\n",
      "|0671870432|     PLEADING GUILTY|         Scott Turow|               1993|          Audioworks|http://images.ama...|http://images.ama...|http://images.ama...|\n",
      "|0679425608|Under the Black F...|     David Cordingly|               1996|        Random House|http://images.ama...|http://images.ama...|http://images.ama...|\n",
      "|074322678X|Where You'll Find...|         Ann Beattie|               2002|            Scribner|http://images.ama...|http://images.ama...|http://images.ama...|\n",
      "|0771074670|Nights Below Stat...|David Adams Richards|               1988|     Emblem Editions|http://images.ama...|http://images.ama...|http://images.ama...|\n",
      "|080652121X|Hitler's Secret B...|          Adam Lebor|               2000|       Citadel Press|http://images.ama...|http://images.ama...|http://images.ama...|\n",
      "|0887841740|  The Middle Stories|         Sheila Heti|               2004|House of Anansi P...|http://images.ama...|http://images.ama...|http://images.ama...|\n",
      "|1552041778|            Jane Doe|        R. J. Kaiser|               1999|          Mira Books|http://images.ama...|http://images.ama...|http://images.ama...|\n",
      "|1558746218|A Second Chicken ...|       Jack Canfield|               1998|Health Communicat...|http://images.ama...|http://images.ama...|http://images.ama...|\n",
      "|1567407781|The Witchfinder (...|   Loren D. Estleman|               1998|Brilliance Audio ...|http://images.ama...|http://images.ama...|http://images.ama...|\n",
      "|1575663937|More Cunning Than...|  Robert Hendrickson|               1999|Kensington Publis...|http://images.ama...|http://images.ama...|http://images.ama...|\n",
      "|1881320189|Goodbye to the Bu...|        Julia Oliver|               1994|      River City Pub|http://images.ama...|http://images.ama...|http://images.ama...|\n",
      "|0440234743|       The Testament|        John Grisham|               1999|                Dell|http://images.ama...|http://images.ama...|http://images.ama...|\n",
      "|0452264464|Beloved (Plume Co...|       Toni Morrison|               1994|               Plume|http://images.ama...|http://images.ama...|http://images.ama...|\n",
      "+----------+--------------------+--------------------+-------------------+--------------------+--------------------+--------------------+--------------------+\n",
      "only showing top 20 rows\n",
      "\n"
     ]
    }
   ],
   "source": [
    "book_info.show()"
   ]
  },
  {
   "cell_type": "code",
   "execution_count": 49,
   "id": "d3bd0ba3",
   "metadata": {},
   "outputs": [],
   "source": [
    "for name in book_info.schema.names:\n",
    "  book_info = book_info.withColumnRenamed(name, name.replace('-', '_'))"
   ]
  },
  {
   "cell_type": "markdown",
   "id": "52e5ef3b",
   "metadata": {},
   "source": [
    "### Retrieve the information of recommended books."
   ]
  },
  {
   "cell_type": "code",
   "execution_count": 50,
   "id": "a632990d",
   "metadata": {},
   "outputs": [],
   "source": [
    "book_info.createOrReplaceTempView('book_info')\n",
    "loaded_rec_names.createOrReplaceTempView('loaded_rec_names')\n",
    "\n",
    "query = \" SELECT R.User_ID, B.ISBN, B.Book_Title, B.Book_Author, B.Year_Of_Publication, B.Publisher\\\n",
    "          FROM book_info B\\\n",
    "          INNER JOIN loaded_rec_names R\\\n",
    "          ON R.Book_Title = B.Book_Title\"\n",
    "book_loaded_info = spark.sql(query)"
   ]
  },
  {
   "cell_type": "code",
   "execution_count": 51,
   "id": "513190c8",
   "metadata": {},
   "outputs": [
    {
     "name": "stdout",
     "output_type": "stream",
     "text": [
      "+-------+----------+--------------------+--------------------+-------------------+--------------------+\n",
      "|User_ID|      ISBN|          Book_Title|         Book_Author|Year_Of_Publication|           Publisher|\n",
      "+-------+----------+--------------------+--------------------+-------------------+--------------------+\n",
      "|    882|0060195460|Keep It Simple, S...|      Judy Sheindlin|               2000|HarperCollins Pub...|\n",
      "|    882|0064472795|Princess in the S...|           Meg Cabot|               2002|        HarperTrophy|\n",
      "|    882|0060294655|Princess in the S...|           Meg Cabot|               2001|       HarperCollins|\n",
      "|    507|006015456X|Always Coming Hom...|   Ursula K. Le Guin|               1985|         Harperaudio|\n",
      "|    507|0007110928|               Billy|   Pamela Stephenson|               2002|HarperCollins Ent...|\n",
      "|    507|0399135847|               Billy|    Whitley Strieber|               1990|    Putnam Pub Group|\n",
      "|    507|0425129551|               Billy|    Whitley Strieber|               1991|Berkley Publishin...|\n",
      "|    507|068480123X|      HOUSE OF MIRTH|       Edith Wharton|               1995|            Scribner|\n",
      "|    882|0020418809|     CADDIE WOODLAWN|   Carol Ryrie Brink|               1970|         Simon Pulse|\n",
      "|    507|0060178213|Bouncing Back: I'...|         Joan Rivers|               1997|       Harpercollins|\n",
      "|    507|1585673080|               Billy|   Pamela Stephenson|               2002|      Overlook Press|\n",
      "|    882|0001047213|    The Fighting Man|      Gerald Seymour|               1993|HarperCollins Pub...|\n",
      "|    882|0060176784|Saying Grace: A N...|       Beth Gutcheon|               1995|       Harpercollins|\n",
      "|    507|0060537310|               Billy|   Pamela Stephenson|               2003|  Perennial Currents|\n",
      "|    507|0140179089|               Billy|       Albert French|               1995|       Penguin Books|\n",
      "|    882|0007122039|\"\\Girls' Night Ou...|         Chris Manby|               2001|HarperCollins Pub...|\n",
      "|    507|0020554303|      HOUSE OF MIRTH|       Edith Wharton|               1987|Scribner Paper Fi...|\n",
      "|    507|0020973403|Airborne: A Senti...|   William F Buckley|                  0|Simon Schuster Trade|\n",
      "|    507|0060165901|Cathedral, Forge,...|        Frances Gies|               1994|       Harpercollins|\n",
      "|    882|0060160772|Peace, Love and H...|Bernie S., M.D. S...|               1989|       Harpercollins|\n",
      "+-------+----------+--------------------+--------------------+-------------------+--------------------+\n",
      "only showing top 20 rows\n",
      "\n"
     ]
    }
   ],
   "source": [
    "book_loaded_info.show()"
   ]
  },
  {
   "cell_type": "code",
   "execution_count": null,
   "id": "2e1e766a",
   "metadata": {},
   "outputs": [],
   "source": []
  }
 ],
 "metadata": {
  "kernelspec": {
   "display_name": "Python 3 (ipykernel)",
   "language": "python",
   "name": "python3"
  },
  "language_info": {
   "codemirror_mode": {
    "name": "ipython",
    "version": 3
   },
   "file_extension": ".py",
   "mimetype": "text/x-python",
   "name": "python",
   "nbconvert_exporter": "python",
   "pygments_lexer": "ipython3",
   "version": "3.11.4"
  }
 },
 "nbformat": 4,
 "nbformat_minor": 5
}
